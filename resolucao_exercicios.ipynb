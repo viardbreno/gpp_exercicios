{
 "cells": [
  {
   "attachments": {},
   "cell_type": "markdown",
   "metadata": {},
   "source": [
    "RESOLUÇÃO DOS EXERCÍCIOS DE LÓGICA DE PROGRAMAÇÃO"
   ]
  },
  {
   "cell_type": "code",
   "execution_count": 2,
   "metadata": {},
   "outputs": [
    {
     "name": "stdout",
     "output_type": "stream",
     "text": [
      "Peso dentro do limite estipulado\n"
     ]
    }
   ],
   "source": [
    "#Q1\n",
    "peso = float(input('Informe o peso dos pescados:'))\n",
    "\n",
    "if peso <= 50:\n",
    "  print('Peso dentro do limite estipulado')\n",
    "else:\n",
    "  exc = peso - 50\n",
    "  multa = exc * 4\n",
    "  print('Peso total pescado: {}'.format(peso),'\\nPeso excedente: {}'.format(exc),'\\nMulta a pagar: R$ {}'.format(multa))\n"
   ]
  },
  {
   "cell_type": "code",
   "execution_count": 3,
   "metadata": {},
   "outputs": [
    {
     "name": "stdout",
     "output_type": "stream",
     "text": [
      "Para pintar uma area de 605.0 m² apenas com Latas de 18, serao necessarios 6.60 latas e o custo será R$ 528.15\n",
      "Para pintar uma area de 605.0 m² apenas com Galões de 3.6, serao necessarios 29.01 galões e o custo será R$ 725.23\n",
      "Mistura: 5 latas e 4 galoes = 500.00\n"
     ]
    }
   ],
   "source": [
    "#Q2\n",
    "area = float(input('Informe o tamanho da área a ser pintada: '))\n",
    "\n",
    "litros = area / 6\n",
    "\n",
    "\n",
    "latas = litros / 18\n",
    "if latas % 18 != 0:\n",
    "  latas +=1\n",
    "preco_latas = latas * 80\n",
    "\n",
    "galao = litros /3.6\n",
    "if galao % 3.6 != 0:\n",
    "  galao +=1\n",
    "preco_galao = galao * 25\n",
    "\n",
    "mistura_lata = int(litros / 18)\n",
    "mistura_galao = int((litros - (mistura_lata * 18)) / 3.6)\n",
    "\n",
    "if litros - (mistura_lata * 18) % 3.6 != 0:\n",
    "  mistura_galao += 1\n",
    "\n",
    "\n",
    "\n",
    "\n",
    "print(f'Para pintar uma area de {area} m² apenas com Latas de 18, serao necessarios {latas:.2f} latas e o custo será R$ {preco_latas:.2f}')\n",
    "print(f'Para pintar uma area de {area} m² apenas com Galões de 3.6, serao necessarios {galao:.2f} galões e o custo será R$ {preco_galao:.2f}')\n",
    "print(f'Mistura: {mistura_lata} latas e {mistura_galao} galoes = {((mistura_galao * 25) + (mistura_lata * 80)):.2f}')"
   ]
  },
  {
   "attachments": {},
   "cell_type": "markdown",
   "metadata": {},
   "source": [
    "Questão 3    sasa\n"
   ]
  },
  {
   "cell_type": "code",
   "execution_count": null,
   "metadata": {},
   "outputs": [],
   "source": [
    "#Q3\n",
    "def calc_sal(horas, val_hora):\n",
    "  sal_bruto = horas * val_hora\n",
    "  return sal_bruto\n",
    "\n",
    "def aliquota_ir (salario):\n",
    "  if salario <= 900:\n",
    "    return 0\n",
    "  elif salario <= 1500:\n",
    "    return 0.05\n",
    "  elif salario <=2500:\n",
    "    return 0.1\n",
    "  else: \n",
    "    return 0.2\n",
    "\n",
    "\n",
    "hora = int(input('Informe a quantidade de horas trabalhadas: '))\n",
    "val_hora = float(input('Informe o valor da hora trabalhada: '))\n",
    "\n",
    "FGTS = 113\n",
    "Sind = 3\n",
    "INSS = 10\n",
    "\n",
    "salario_bruto = calc_sal(hora, val_hora)\n",
    "aliq_ir = aliquota_ir(salario_bruto) \n",
    "ir_descontado = salario_bruto * aliq_ir\n",
    "inss_descontado = salario_bruto * (INSS /100)\n",
    "salario_liq = salario_bruto - ir_descontado - inss_descontado\n",
    "\n",
    "\n",
    "\n",
    "\n",
    "print(f'Salário Bruto: {hora} * {val_hora} \\t\\t: R${salario_bruto:.2f}')\n",
    "print(f'(-) IR ({aliq_ir*100:.0f}%)  \\t\\t\\t\\t: R${salario_bruto * aliq_ir:.2f}')\n",
    "print(f'(-) INSS {INSS}%  \\t\\t\\t\\t: R${salario_bruto * INSS/100:.2f}')\n",
    "print(f'FGTS ({FGTS}%)  \\t\\t\\t\\t: R${salario_bruto * FGTS/100:.2f}')\n",
    "print(f'Total de descontos  \\t\\t\\t: R${ir_descontado + inss_descontado:.2f}')\n",
    "print(f'Salário Líquido  \\t\\t\\t: R${salario_liq:.2f}')"
   ]
  }
 ],
 "metadata": {
  "kernelspec": {
   "display_name": "Python 3",
   "language": "python",
   "name": "python3"
  },
  "language_info": {
   "codemirror_mode": {
    "name": "ipython",
    "version": 3
   },
   "file_extension": ".py",
   "mimetype": "text/x-python",
   "name": "python",
   "nbconvert_exporter": "python",
   "pygments_lexer": "ipython3",
   "version": "3.10.4 (tags/v3.10.4:9d38120, Mar 23 2022, 23:13:41) [MSC v.1929 64 bit (AMD64)]"
  },
  "orig_nbformat": 4,
  "vscode": {
   "interpreter": {
    "hash": "c66821fff7a8ddbad6333d6db9a987c5d4a44f0aa598c54f6fb2b699c4ab733f"
   }
  }
 },
 "nbformat": 4,
 "nbformat_minor": 2
}
